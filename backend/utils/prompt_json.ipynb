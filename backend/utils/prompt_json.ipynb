{
 "cells": [
  {
   "cell_type": "code",
   "execution_count": 1,
   "id": "eabeb627-ae66-408c-b76f-94d6b110ae79",
   "metadata": {},
   "outputs": [],
   "source": [
    "%load_ext autoreload\n",
    "%autoreload 2\n",
    "import requests\n",
    "import json\n",
    "\n",
    "\n",
    "from greenvisor.backend.utils.prompt_json import strip_answer, validate_json, prompt_en, form_renovations_json"
   ]
  },
  {
   "cell_type": "markdown",
   "id": "8c8bbd53-658a-48cd-80f9-b9fbe074337a",
   "metadata": {},
   "source": [
    "## Query for recommendations"
   ]
  },
  {
   "cell_type": "code",
   "execution_count": 3,
   "id": "71565d25-0308-40f1-8275-65e29afcce98",
   "metadata": {},
   "outputs": [],
   "source": [
    "url = '<IP:port/graph/query>'\n",
    "myobj = {\n",
    "    #'question': 'Which PV should I install?',\n",
    "    'question': prompt_en,\n",
    "    'lang': 'english',\n",
    "    'userid': '<USERID>'\n",
    "}\n",
    "\n",
    "x = requests.post(url, json = myobj)"
   ]
  },
  {
   "cell_type": "code",
   "execution_count": 4,
   "id": "7e44fc7b-e686-4928-be74-49ede52bfdc8",
   "metadata": {},
   "outputs": [
    {
     "name": "stdout",
     "output_type": "stream",
     "text": [
      "\n",
      "\"hello world\"\n",
      "\n"
     ]
    }
   ],
   "source": [
    "text = \"\"\"```json\n",
    "\"hello world\"\n",
    "```\"\"\"\n",
    "print(strip_answer(text))"
   ]
  },
  {
   "cell_type": "code",
   "execution_count": 5,
   "id": "54ef8a31-23c3-4a44-957f-e5ec5ccdd1fe",
   "metadata": {},
   "outputs": [
    {
     "name": "stdout",
     "output_type": "stream",
     "text": [
      "[\n",
      "  {\n",
      "    \"Measure\": \"Insulation of exterior walls and roof\",\n",
      "    \"ExampleProduct\": \"Rockwool insulation panels\",\n",
      "    \"InvestmentCostsEuro\": 25000,\n",
      "    \"HeatingCostPerYear\": {\n",
      "      \"current\": 2200,\n",
      "      \"future\": 1400\n",
      "    },\n",
      "    \"CO2KgPerYear\": {\n",
      "      \"current\": 8000,\n",
      "      \"future\": 4000\n",
      "    },\n",
      "    \"SubsidiesPercentage\": {\n",
      "      \"maximum\": 30,\n",
      "      \"comment\": \"Up to 30% subsidy possible via BEG (Bundesförderung für effiziente Gebäude) with additional 5% iSFP bonus and 5% climate speed bonus\"\n",
      "    },\n",
      "    \"obligatory\": {\n",
      "      \"value\": true,\n",
      "      \"comment\": \"According to GEG §47, top-floor ceilings and accessible attic spaces must be insulated if they do not meet minimum thermal insulation standards.\"\n",
      "    },\n",
      "    \"RecommendedChangeDate\": {\n",
      "      \"value\": 2024\n",
      "    }\n",
      "  },\n",
      "  {\n",
      "    \"Measure\": \"Renovate facade\",\n",
      "    \"ExampleProduct\": \"High-quality wood facade treatment\",\n",
      "    \"InvestmentCostsEuro\": 15000,\n",
      "    \"HeatingCostPerYear\": {\n",
      "      \"current\": 1400,\n",
      "      \"future\": 1200\n",
      "    },\n",
      "    \"CO2KgPerYear\": {\n",
      "      \"current\": 4000,\n",
      "      \"future\": 3400\n",
      "    },\n",
      "    \"SubsidiesPercentage\": {\n",
      "      \"maximum\": 25,\n",
      "      \"comment\": \"Up to 25% subsidy via BEG including bonuses for facade renovation with energy improvements\"\n",
      "    },\n",
      "    \"obligatory\": {\n",
      "      \"value\": false,\n",
      "      \"comment\": \"Not legally required, but recommended due to current condition needing repainting\"\n",
      "    },\n",
      "    \"RecommendedChangeDate\": {\n",
      "      \"value\": 2027\n",
      "    }\n",
      "  },\n",
      "  {\n",
      "    \"Measure\": \"Changing heating type to heat pump\",\n",
      "    \"ExampleProduct\": \"Vaillant aroTHERM plus\",\n",
      "    \"InvestmentCostsEuro\": 18000,\n",
      "    \"HeatingCostPerYear\": {\n",
      "      \"current\": 1200,\n",
      "      \"future\": 650\n",
      "    },\n",
      "    \"CO2KgPerYear\": {\n",
      "      \"current\": 3400,\n",
      "      \"future\": 900\n",
      "    },\n",
      "    \"SubsidiesPercentage\": {\n",
      "      \"maximum\": 70,\n",
      "      \"comment\": \"Up to 70% subsidy possible for heat pumps via BEG with climate speed bonus and iSFP bonus\"\n",
      "    },\n",
      "    \"obligatory\": {\n",
      "      \"value\": true,\n",
      "      \"comment\": \"From 2024, new heating systems must use at least 65% renewable energy according to the Building Energy Act (GEG)\"\n",
      "    },\n",
      "    \"RecommendedChangeDate\": {\n",
      "      \"value\": 2030\n",
      "    }\n",
      "  },\n",
      "  {\n",
      "    \"Measure\": \"Install solar thermal system\",\n",
      "    \"ExampleProduct\": \"Viessmann Vitosol 200-FM\",\n",
      "    \"InvestmentCostsEuro\": 9000,\n",
      "    \"HeatingCostPerYear\": {\n",
      "      \"current\": 650,\n",
      "      \"future\": 450\n",
      "    },\n",
      "    \"CO2KgPerYear\": {\n",
      "      \"current\": 900,\n",
      "      \"future\": 600\n",
      "    },\n",
      "    \"SubsidiesPercentage\": {\n",
      "      \"maximum\": 25,\n",
      "      \"comment\": \"Up to 25% subsidy via BEG for solar thermal systems with additional bonuses\"\n",
      "    },\n",
      "    \"obligatory\": {\n",
      "      \"value\": false,\n",
      "      \"comment\": \"Not legally required, but beneficial for reducing energy costs\"\n",
      "    },\n",
      "    \"RecommendedChangeDate\": {\n",
      "      \"value\": 2033\n",
      "    }\n",
      "  }\n",
      "]\n"
     ]
    }
   ],
   "source": [
    "answer = strip_answer(json.loads(x.text)[\"message\"])\n",
    "print(answer)\n",
    "if not validate_json(answer):\n",
    "    print(\"malformed json\")"
   ]
  },
  {
   "cell_type": "code",
   "execution_count": 9,
   "id": "e3694ae4-341d-4d32-98a4-f8f3e46c26b0",
   "metadata": {},
   "outputs": [
    {
     "data": {
      "text/plain": [
       "{'Renovation': ['Insulation of exterior walls and roof',\n",
       "  'Renovate facade',\n",
       "  'Changing heating type to heat pump',\n",
       "  'Install solar thermal system'],\n",
       " 'Example product': ['Rockwool insulation panels',\n",
       "  'High-quality wood facade treatment',\n",
       "  'Vaillant aroTHERM plus',\n",
       "  'Viessmann Vitosol 200-FM'],\n",
       " 'Investment, €': ['25000', '15000', '18000', '9000'],\n",
       " 'Heating costs, kWh/year': ['from 2200 €/year to 1400 €/year',\n",
       "  'from 1400 €/year to 1200 €/year',\n",
       "  'from 1200 €/year to 650 €/year',\n",
       "  'from 650 €/year to 450 €/year'],\n",
       " 'CO2 emissions, kg/year': ['from 8000 kg/year to 4000 kg/year',\n",
       "  'from 4000 kg/year to 3400 kg/year',\n",
       "  'from 3400 kg/year to 900 kg/year',\n",
       "  'from 900 kg/year to 600 kg/year'],\n",
       " 'Subsidies': ['Up to 30% subsidy possible via BEG (Bundesförderun...',\n",
       "  'Up to 25% subsidy via BEG including bonuses for fa...',\n",
       "  'Up to 70% subsidy possible for heat pumps via BEG ...',\n",
       "  'Up to 25% subsidy via BEG for solar thermal system...'],\n",
       " 'Obligatory by law': ['yes', 'no', 'yes', 'no'],\n",
       " 'Planned date': ['2024', '2027', '2030', '2033']}"
      ]
     },
     "execution_count": 9,
     "metadata": {},
     "output_type": "execute_result"
    }
   ],
   "source": [
    "rename_cols = {\n",
    "    'Measure': 'Renovation',\n",
    "    'ExampleProduct': 'Example product',\n",
    "    'InvestmentCostsEuro': 'Investment, €',\n",
    "    'HeatingCostPerYear': 'Heating costs, kWh/year',\n",
    "    'CO2KgPerYear': 'CO2 emissions, kg/year',\n",
    "    'SubsidiesPercentage': 'Subsidies',\n",
    "    'obligatory': 'Obligatory by law',\n",
    "    'RecommendedChangeDate': 'Planned date',\n",
    "}\n",
    "\n",
    "renovations_raw = json.loads(answer)\n",
    "renovations_table = form_renovations_json(renovations_raw)\n",
    "\n",
    "print_table = {}\n",
    "for old_col, new_col in rename_cols.items():\n",
    "    print_table[new_col] = renovations_table[old_col]\n",
    "\n",
    "print_table"
   ]
  },
  {
   "cell_type": "code",
   "execution_count": 11,
   "id": "0ecfbe92-49eb-4121-b2e9-297d6beea114",
   "metadata": {},
   "outputs": [],
   "source": [
    "from greenvisor.backend.utils.prompt_json import strip_answer, validate_json, prompt_en, form_renovations_json\n",
    "from greenvisor.backend.pdf_export.pdfexport import json_to_pdf\n",
    "json_to_pdf(\"Renovation proposals\", print_table, \"renovations.pdf\")"
   ]
  },
  {
   "cell_type": "markdown",
   "id": "1b160056-af6b-439e-8d23-eb76a1f25c90",
   "metadata": {},
   "source": [
    "## Query for totals"
   ]
  },
  {
   "cell_type": "code",
   "execution_count": 12,
   "id": "59c3b622-c055-4061-87da-2394b7463d13",
   "metadata": {},
   "outputs": [],
   "source": [
    "plan = \"\\n--- BEGIN OF HOUSE RENOVATION PLAN ---\\n\" + answer + \"\\n--- END OF HOUSE RENOVATION PLAN ---\\n\""
   ]
  },
  {
   "cell_type": "code",
   "execution_count": 13,
   "id": "73698f16-dd96-400e-b17b-54302e95af48",
   "metadata": {},
   "outputs": [],
   "source": [
    "from greenvisor.backend.utils.prompt_json import prompt_total_en\n",
    "myobj = {\n",
    "    'question': prompt_total_en + plan,\n",
    "    'lang': 'en',\n",
    "    'userid': '681fc0844c6fdb1b20cd'\n",
    "}\n",
    "\n",
    "total_ret = requests.post(url, json = myobj)"
   ]
  },
  {
   "cell_type": "code",
   "execution_count": 14,
   "id": "19324918-3042-4c50-babb-93460c41915e",
   "metadata": {},
   "outputs": [
    {
     "name": "stdout",
     "output_type": "stream",
     "text": [
      "[\n",
      "  {\n",
      "    \"TotalHeatingUsage\": {\n",
      "        \"before\": 20000,\n",
      "        \"after\": 7000\n",
      "    },\n",
      "    \"TotalElectricityUsage\": {\n",
      "        \"before\": 3500,\n",
      "        \"after\": 5500\n",
      "    },\n",
      "    \"TotalHeatingCost\": {\n",
      "        \"before\": 2200,\n",
      "        \"after\": 450\n",
      "    },\n",
      "    \"TotalElectricityCost\": {\n",
      "        \"before\": 1200,\n",
      "        \"after\": 1550\n",
      "    },\n",
      "    \"EnergyEfficiency\": {\n",
      "        \"before\": \"G\",\n",
      "        \"after\": \"B\"\n",
      "    },\n",
      "    \"CO2Emissions\": {\n",
      "        \"before\": 8000,\n",
      "        \"after\": 600\n",
      "    }\n",
      "  }\n",
      "]\n"
     ]
    }
   ],
   "source": [
    "total = strip_answer(json.loads(total_ret.text)[\"message\"])\n",
    "print(total)\n",
    "if not validate_json(total):\n",
    "    print(\"malformed json\")"
   ]
  },
  {
   "cell_type": "markdown",
   "id": "e00e1cf8-581e-4499-a004-cde69d81e1b5",
   "metadata": {},
   "source": [
    "## Present totals"
   ]
  },
  {
   "cell_type": "code",
   "execution_count": 21,
   "id": "c236b12d-783b-4386-920d-375884066fe8",
   "metadata": {},
   "outputs": [],
   "source": [
    "from greenvisor.backend.utils.prompt_json import form_total_json\n",
    "\n",
    "def present_total(renovations_raw, total_raw):\n",
    "    renovations_raw = json.loads(answer)\n",
    "    renovations_table = form_renovations_json(renovations_raw)\n",
    "\n",
    "    # calculate total investment\n",
    "    total_investment = 0\n",
    "    investment_with_subsidy = 0\n",
    "    for measure in renovations_raw:\n",
    "        total_investment += measure[\"InvestmentCostsEuro\"]\n",
    "        investment_with_subsidy += measure[\"InvestmentCostsEuro\"] * measure['SubsidiesPercentage']['maximum'] / 100\n",
    "    #print(total_investment, investment_with_subsidy)\n",
    "\n",
    "    # calculate savings\n",
    "    total_savings = 0\n",
    "    for measure in renovations_raw:\n",
    "        total_savings += measure['HeatingCostPerYear']['current'] - measure['HeatingCostPerYear']['future']\n",
    "    #print(total_savings)\n",
    "\n",
    "    \n",
    "    # amortisation (payoff)\n",
    "    amortisation_years = investment_with_subsidy / total_savings\n",
    "    average_subsidy = investment_with_subsidy / total_investment\n",
    "    #print(amortisation_years)\n",
    "    #print(average_subsidy * 100)\n",
    "\n",
    "    # fill in pdf\n",
    "    total_show = form_total_json(json.loads(total_raw))\n",
    "    appendix = [\n",
    "        ['TotalInvestment', '-', f\"{total_investment} €\"],\n",
    "        ['Subsidy',         '-', str(int(average_subsidy * 100)) + \"%\"],\n",
    "        ['Savings',         '-', str(int(total_savings))],\n",
    "        ['Amortisation',    '-', str(int(amortisation_years))]\n",
    "    ]\n",
    "    \n",
    "    for i in range(len(appendix)):\n",
    "        for j, col in enumerate(total_show.keys()):\n",
    "            total_show[col].append(appendix[i][j])\n",
    "\n",
    "    aspects_rename = {\n",
    "        'TotalHeatingUsage': 'Total heat usage, kWh/year',\n",
    "        'TotalElectricityUsage': 'Total electricity usage, kWh/year',\n",
    "        'TotalHeatingCost': 'Total heating cost, €/year',\n",
    "        'TotalElectricityCost': 'Total electricity cost, €/year',\n",
    "        'EnergyEfficiency': 'Energy efficiency',\n",
    "        'CO2Emissions': 'CO2 emissions, kg/year',\n",
    "        'TotalInvestment': 'Total investment, €',\n",
    "        'Subsidy': 'Subsidy',\n",
    "        'Savings': 'Savings per month, €',\n",
    "        'Amortisation': 'Amortisation, years'\n",
    "    }\n",
    "\n",
    "    total_show['aspect'] = list(aspects_rename.values())\n",
    "        \n",
    "    \n",
    "    return total_show"
   ]
  },
  {
   "cell_type": "code",
   "execution_count": 22,
   "id": "7f499a91-8917-4dc2-b8d5-db4832556f7e",
   "metadata": {},
   "outputs": [
    {
     "data": {
      "text/plain": [
       "{'aspect': ['Total heat usage, kWh/year',\n",
       "  'Total electricity usage, kWh/year',\n",
       "  'Total heating cost, €/year',\n",
       "  'Total electricity cost, €/year',\n",
       "  'Energy efficiency',\n",
       "  'CO2 emissions, kg/year',\n",
       "  'Total investment, €',\n",
       "  'Subsidy',\n",
       "  'Savings per month, €',\n",
       "  'Amortisation, years'],\n",
       " 'before': ['20000', '3500', '2200', '1200', 'G', '8000', '-', '-', '-', '-'],\n",
       " 'after': ['7000',\n",
       "  '5500',\n",
       "  '450',\n",
       "  '1550',\n",
       "  'B',\n",
       "  '600',\n",
       "  '67000 €',\n",
       "  '38%',\n",
       "  '1750',\n",
       "  '14']}"
      ]
     },
     "execution_count": 22,
     "metadata": {},
     "output_type": "execute_result"
    }
   ],
   "source": [
    "present_total(renovations_raw, total)"
   ]
  },
  {
   "cell_type": "code",
   "execution_count": 23,
   "id": "de27c553-4db4-4df6-a546-45b6d8de7094",
   "metadata": {},
   "outputs": [],
   "source": [
    "from greenvisor.backend.pdf_export.pdfexport import json_to_pdf\n",
    "json_to_pdf('Saving summary', present_total(renovations_raw, total), \"summary.pdf\")"
   ]
  },
  {
   "cell_type": "code",
   "execution_count": null,
   "id": "020e8696-b496-444d-b3cc-fe7306311214",
   "metadata": {},
   "outputs": [],
   "source": []
  }
 ],
 "metadata": {
  "kernelspec": {
   "display_name": "Python 3 (ipykernel)",
   "language": "python",
   "name": "python3"
  },
  "language_info": {
   "codemirror_mode": {
    "name": "ipython",
    "version": 3
   },
   "file_extension": ".py",
   "mimetype": "text/x-python",
   "name": "python",
   "nbconvert_exporter": "python",
   "pygments_lexer": "ipython3",
   "version": "3.11.9"
  }
 },
 "nbformat": 4,
 "nbformat_minor": 5
}
